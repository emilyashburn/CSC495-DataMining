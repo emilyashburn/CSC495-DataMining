{
 "cells": [
  {
   "cell_type": "markdown",
   "metadata": {},
   "source": [
    "## CSC495-01\n",
    "## 3-Topic Modeling\n",
    "### Emily Ashburn\n",
    "## 5/11/2020"
   ]
  },
  {
   "cell_type": "markdown",
   "metadata": {},
   "source": [
    "1. Import data\n",
    "2. Feed data into gensim\n",
    "        a. Preprocessing\n",
    "            i. Remove rare / common words\n",
    "            ii. Stemming\n",
    "3. LDA Topic Modeling on Docbow model\n",
    "        a. 20 topics per document\n",
    "        b. 20 topics per decade\n",
    "4. Come up with a method to figure out how topics of speeches have changed over time\n",
    "(split the corpus for each decade before topic modeling)"
   ]
  },
  {
   "cell_type": "code",
   "execution_count": 7,
   "metadata": {},
   "outputs": [
    {
     "data": {
      "text/plain": [
       "1000000000"
      ]
     },
     "execution_count": 7,
     "metadata": {},
     "output_type": "execute_result"
    }
   ],
   "source": [
    "import pandas\n",
    "import numpy\n",
    "import csv\n",
    "from os.path import abspath\n",
    "csv.field_size_limit(1000000000)"
   ]
  },
  {
   "cell_type": "code",
   "execution_count": 2,
   "metadata": {},
   "outputs": [],
   "source": [
    "# 1. Import file\n",
    "filePath = abspath(\"state-of-the-union.csv\")"
   ]
  },
  {
   "cell_type": "code",
   "execution_count": 3,
   "metadata": {},
   "outputs": [],
   "source": [
    "# Initialize DataFrame object for Tweets data.\n",
    "colNames = ['YearOfSpeech', 'TextOfSpeech']\n",
    "speechDoc = pandas.read_csv(filePath, names=colNames)"
   ]
  },
  {
   "cell_type": "code",
   "execution_count": 4,
   "metadata": {},
   "outputs": [],
   "source": [
    "# 2a) Remove \\n symbols in all speeches\n",
    "speechDoc = speechDoc.replace(r'\\n',' ', regex=True) "
   ]
  },
  {
   "cell_type": "code",
   "execution_count": 13,
   "metadata": {},
   "outputs": [],
   "source": [
    "# 3.\n",
    "\n",
    "# Train LDA Model\n",
    "\n",
    "# Training variables\n"
   ]
  },
  {
   "cell_type": "code",
   "execution_count": null,
   "metadata": {},
   "outputs": [],
   "source": [
    "# 3.\n",
    "\n",
    "# Train DocBow Model\n"
   ]
  },
  {
   "cell_type": "code",
   "execution_count": 8,
   "metadata": {
    "collapsed": true
   },
   "outputs": [
    {
     "data": {
      "text/plain": [
       "DecadeIndex\n",
       "1     [George Washington January 8, 1790  Fellow-Cit...\n",
       "2     [ State of the Union Address John Adams Novemb...\n",
       "3     [ State of the Union Address James Madison Dec...\n",
       "4     [ State of the Union Address James Monroe Nove...\n",
       "5     [ State of the Union Address Andrew Jackson De...\n",
       "6     [ State of the Union Address Martin van Buren ...\n",
       "7     [ State of the Union Address Millard Fillmore ...\n",
       "8     [ State of the Union Address James Buchanan De...\n",
       "9     [ State of the Union Address Ulysses S. Grant ...\n",
       "10    [ State of the Union Address Rutherford B. Hay...\n",
       "11    [ State of the Union Address Benjamin Harrison...\n",
       "12    [ State of the Union Address William McKinley ...\n",
       "13    [ State of the Union Address William H. Taft D...\n",
       "14    [ State of the Union Address Woodrow Wilson De...\n",
       "15    [ State of the Union Address Herbert Hoover De...\n",
       "16    [ State of the Union Address Franklin D. Roose...\n",
       "17    [ State of the Union Address Harry S. Truman J...\n",
       "18    [ State of the Union Address Dwight D. Eisenho...\n",
       "19    [ State of the Union Address Richard Nixon Jan...\n",
       "20    [ State of the Union Address Jimmy Carter Janu...\n",
       "21    [ State of the Union Address George H.W. Bush ...\n",
       "22    [ State of the Union Address William J. Clinto...\n",
       "23    [ State of the Union Address Barack Obama  Jan...\n",
       "Name: TextOfSpeech, dtype: object"
      ]
     },
     "execution_count": 8,
     "metadata": {},
     "output_type": "execute_result"
    }
   ],
   "source": [
    "# 4. Group speeches by decade\n",
    "    # start = 1790\n",
    "    # end = 2013\n",
    "    # inc by = 10\n",
    "bins =  numpy.arange(1790,2013,10, dtype=None)\n",
    "indexes = numpy.digitize(speechDoc['YearOfSpeech'], bins)\n",
    "\n",
    "# Add indexes to dataframe to group speeches to decade index\n",
    "speechDoc['DecadeIndex'] = indexes\n",
    "speechDoc.groupby('DecadeIndex')['TextOfSpeech'].apply(list)"
   ]
  }
 ],
 "metadata": {
  "kernelspec": {
   "display_name": "Python 3",
   "language": "python",
   "name": "python3"
  },
  "language_info": {
   "codemirror_mode": {
    "name": "ipython",
    "version": 3
   },
   "file_extension": ".py",
   "mimetype": "text/x-python",
   "name": "python",
   "nbconvert_exporter": "python",
   "pygments_lexer": "ipython3",
   "version": "3.6.5"
  }
 },
 "nbformat": 4,
 "nbformat_minor": 2
}
