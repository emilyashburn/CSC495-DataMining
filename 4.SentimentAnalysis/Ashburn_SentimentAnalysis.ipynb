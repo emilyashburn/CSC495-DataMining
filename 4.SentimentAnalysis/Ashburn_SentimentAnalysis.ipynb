{
 "cells": [
  {
   "cell_type": "markdown",
   "metadata": {},
   "source": [
    "## CSC495-01\n",
    "## 4-Sentiment Analysis\n",
    "### Emily Ashburn\n",
    "## 4/13/2020"
   ]
  },
  {
   "cell_type": "markdown",
   "metadata": {},
   "source": [
    "1. Import data\n",
    "2. Select training/testing datasets randomly\n",
    "3. Word count with CountVectorizer.\n",
    "    Tokenize words.\n",
    "    Count occurrence of each word. (transform method)\n",
    "4. Train a model to learn what tweets are negative/positive\n",
    "5. Check accuracy of model"
   ]
  },
  {
   "cell_type": "code",
   "execution_count": 1,
   "metadata": {},
   "outputs": [],
   "source": [
    "import pandas\n",
    "import numpy\n",
    "import csv\n",
    "from os.path import abspath"
   ]
  },
  {
   "cell_type": "code",
   "execution_count": 2,
   "metadata": {},
   "outputs": [],
   "source": [
    "# Import file\n",
    "filePath = abspath(\"1600000.processed.noemoticon.csv\")"
   ]
  },
  {
   "cell_type": "code",
   "execution_count": 3,
   "metadata": {},
   "outputs": [],
   "source": [
    "# Initialize DataFrame object for Tweets data.\n",
    "colNames = ['TweetPolarity', 'ID', 'Date', 'Query', 'User', 'TextOfTweet']\n",
    "allTweets = pandas.read_csv(filePath, names=colNames, engine='python')"
   ]
  },
  {
   "cell_type": "code",
   "execution_count": 4,
   "metadata": {},
   "outputs": [],
   "source": [
    "# Establish data to TRAIN.\n",
    "# There are no neutral polarity tweets, so tweets used for training are either positive (4) or negative (0).\n",
    "# ^ Determined by: allTweets.loc[allTweets['TweetPolarity'] == 2] being empty.\n",
    "train_test_data = allTweets.sample(n=15000, random_state=100)"
   ]
  },
  {
   "cell_type": "code",
   "execution_count": 5,
   "metadata": {},
   "outputs": [],
   "source": [
    "# To train our model, \n",
    "# Break up \n",
    "#  positive & negative tweets up into an array of strings\n",
    "#  polarities of the corresponding tweets\n",
    "\n",
    "tweets = []\n",
    "tweet_pol = []\n",
    "\n",
    "for row in train_test_data.itertuples():\n",
    "    if row.TweetPolarity == 0:\n",
    "        tweets.append(row.TextOfTweet)\n",
    "        tweet_pol.append('pos')\n",
    "    else:\n",
    "        tweets.append(row.TextOfTweet)\n",
    "        tweet_pol.append('neg')"
   ]
  },
  {
   "cell_type": "code",
   "execution_count": 6,
   "metadata": {
    "scrolled": true
   },
   "outputs": [],
   "source": [
    "# Establish a CountVectorizer class to fit onto train data.\n",
    "# Features == word counts of the entire dataset.\n",
    "\n",
    "from sklearn.feature_extraction.text import CountVectorizer\n",
    "vectorizor = CountVectorizer()\n",
    "features = vectorizor.fit_transform(tweets)\n",
    "wordcount = features.toarray()"
   ]
  },
  {
   "cell_type": "code",
   "execution_count": 7,
   "metadata": {},
   "outputs": [],
   "source": [
    "# Use train_test_split to split sample data into test/train sets (12,000/15,000 train, 3,000/15,000 test)\n",
    "\n",
    "from sklearn.model_selection import train_test_split\n",
    "X_train, X_test, y_train, y_test = train_test_split(wordcount, tweet_pol, train_size=.8, random_state=5)"
   ]
  },
  {
   "cell_type": "code",
   "execution_count": 8,
   "metadata": {},
   "outputs": [],
   "source": [
    "# Create/train the model\n",
    "\n",
    "from sklearn.linear_model import LogisticRegression\n",
    "log_model = LogisticRegression(max_iter=15000)\n",
    "log_model = log_model.fit(X=X_train, y=y_train)"
   ]
  },
  {
   "cell_type": "code",
   "execution_count": 9,
   "metadata": {},
   "outputs": [
    {
     "name": "stdout",
     "output_type": "stream",
     "text": [
      "0.7576666666666667\n"
     ]
    }
   ],
   "source": [
    "# Check accuracy of model\n",
    "prediction = log_model.predict(X_test)\n",
    "\n",
    "from sklearn.metrics import accuracy_score\n",
    "print(accuracy_score(y_test,prediction))"
   ]
  }
 ],
 "metadata": {
  "kernelspec": {
   "display_name": "Python 3",
   "language": "python",
   "name": "python3"
  },
  "language_info": {
   "codemirror_mode": {
    "name": "ipython",
    "version": 3
   },
   "file_extension": ".py",
   "mimetype": "text/x-python",
   "name": "python",
   "nbconvert_exporter": "python",
   "pygments_lexer": "ipython3",
   "version": "3.6.5"
  }
 },
 "nbformat": 4,
 "nbformat_minor": 2
}
